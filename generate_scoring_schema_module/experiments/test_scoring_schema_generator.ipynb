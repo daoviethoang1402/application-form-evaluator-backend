{
 "cells": [
  {
   "cell_type": "code",
   "execution_count": 2,
   "metadata": {},
   "outputs": [],
   "source": [
    "import os\n",
    "import re\n",
    "import time\n",
    "import json\n",
    "import pathlib\n",
    "\n",
    "from google import genai\n",
    "\n",
    "from cleanlab_tlm import TLM\n",
    "\n",
    "from athina_logger.api_key import AthinaApiKey\n",
    "from athina_logger.inference_logger import InferenceLogger\n",
    "from athina_logger.exception.custom_exception import CustomException"
   ]
  },
  {
   "cell_type": "code",
   "execution_count": 3,
   "metadata": {},
   "outputs": [],
   "source": [
    "import os\n",
    "import sys\n",
    "sys.path.append(os.path.abspath(\"../\"))"
   ]
  },
  {
   "cell_type": "code",
   "execution_count": 4,
   "metadata": {},
   "outputs": [],
   "source": [
    "from jd_quantifier import gen_and_log_schema_from_jd"
   ]
  },
  {
   "cell_type": "code",
   "execution_count": 5,
   "metadata": {},
   "outputs": [
    {
     "data": {
      "text/plain": [
       "[PosixPath('../data/raw/jd/unv/Climate Change & Environmental Officer.txt'),\n",
       " PosixPath('../data/raw/jd/unv/Online Teaching for the Global Citizenship Course.txt'),\n",
       " PosixPath('../data/raw/jd/unv/Tình Nguyện Viên Nâng Cao Nhận Thức Về Công Việc Tình Nguyện Tại Liên Hợp Quốc.txt'),\n",
       " PosixPath('../data/raw/jd/unv/[Online] Chương Trình Tình Nguyện Liên Hợp Quốc UN Volunteers (UNV) Tuyển Dụng Tình Nguyện Viên Mảng Truyền Thông 2022.txt')]"
      ]
     },
     "execution_count": 5,
     "metadata": {},
     "output_type": "execute_result"
    }
   ],
   "source": [
    "folder_jd_path = pathlib.Path(\"../data/raw/jd/unv\")\n",
    "\n",
    "# List out names of all the files in the directory\n",
    "# https://realpython.com/get-all-files-in-directory-python/\n",
    "filepaths = folder_jd_path.rglob(\"*\")\n",
    "\n",
    "# Keep only files\n",
    "filepaths = [f for f in filepaths if f.is_file()]\n",
    "\n",
    "list(filepaths)"
   ]
  },
  {
   "cell_type": "code",
   "execution_count": 6,
   "metadata": {},
   "outputs": [],
   "source": [
    "secret_keys_folder = \"../secret_keys/\"\n",
    "\n",
    "# Read the Gemini API key\n",
    "with open(secret_keys_folder + \"gemini_api_key.txt\", 'r', encoding='utf-8') as file:\n",
    "    gemini_api_key = file.read().strip()"
   ]
  },
  {
   "cell_type": "code",
   "execution_count": 7,
   "metadata": {},
   "outputs": [],
   "source": [
    "# Define the folder containing the prompt templates\n",
    "prompt_template_folder = \"../prompt_templates/\"\n",
    "\n",
    "# List all files in the prompt template folder\n",
    "prompt_files = os.listdir(prompt_template_folder)\n",
    "\n",
    "# Filter out files that match the pattern \"prompt_template_v*.txt\"\n",
    "prompt_files = [f for f in prompt_files if re.match(r\"prompt_template_v\\d+\\.txt\", f)]\n",
    "\n",
    "# Sort the files by version number in descending order\n",
    "prompt_files.sort(key=lambda x: int(re.search(r'\\d+', x).group()), reverse=True)\n",
    "\n",
    "# Get the prompt template with the highest version number\n",
    "latest_prompt_template_file = prompt_files[0]\n",
    "\n",
    "# Read the content of the latest prompt template file\n",
    "with open(prompt_template_folder + latest_prompt_template_file, \"r\", encoding=\"utf-8\") as file:\n",
    "    prompt_template = file.read().strip()"
   ]
  },
  {
   "cell_type": "code",
   "execution_count": 8,
   "metadata": {},
   "outputs": [],
   "source": [
    "# Setup the Cleanlab TLM API key\n",
    "with open(secret_keys_folder + \"cleanlab_tlm_api_key.txt\", 'r', encoding='utf-8') as file:\n",
    "    cleanlab_tlm_api_key = file.read().strip()\n",
    "os.environ[\"CLEANLAB_TLM_API_KEY\"] = cleanlab_tlm_api_key"
   ]
  },
  {
   "cell_type": "code",
   "execution_count": 9,
   "metadata": {},
   "outputs": [],
   "source": [
    "# Read the Athina API key from the file\n",
    "with open(secret_keys_folder + \"athina_api_key.txt\", 'r', encoding='utf-8') as file:\n",
    "    athina_api_key = file.read().strip()\n",
    "\n",
    "# Set Athina API Key\n",
    "AthinaApiKey.set_api_key(athina_api_key)"
   ]
  },
  {
   "cell_type": "code",
   "execution_count": 10,
   "metadata": {},
   "outputs": [],
   "source": [
    "google_model_lists = [\n",
    "    \"gemini-2.5-pro-exp-03-25\",\n",
    "    \"gemini-1.5-pro\"\n",
    "]"
   ]
  },
  {
   "cell_type": "code",
   "execution_count": null,
   "metadata": {},
   "outputs": [],
   "source": [
    "# scoring_scale_min = 1\n",
    "# scoring_scale_max = 5\n",
    "\n",
    "# # For each models, generate and log the schema on all job descriptions\n",
    "# for model in google_model_lists:\n",
    "#     print(f\"--- Processing model: {model} ---\")\n",
    "#     for jd_path in filepaths:\n",
    "#         print(f\"  Processing job description file: {jd_path.name}\")\n",
    "#         try:\n",
    "#             schema = gen_and_log_schema_from_jd(\n",
    "#                 jd_path=jd_path,\n",
    "#                 scoring_scale_min=scoring_scale_min,\n",
    "#                 scoring_scale_max=scoring_scale_max,\n",
    "#                 google_api_key=gemini_api_key,\n",
    "#                 model=model,\n",
    "#                 cleanlab_tlm_api_key=cleanlab_tlm_api_key,\n",
    "#                 athina_api_key=athina_api_key\n",
    "#             )\n",
    "#             print(f\"  Generated schema: {schema}\")\n",
    "#         except Exception as e:\n",
    "#             print(f\"  Error processing {jd_path} with model {model}: {e}\")"
   ]
  },
  {
   "cell_type": "code",
   "execution_count": 13,
   "metadata": {},
   "outputs": [
    {
     "name": "stdout",
     "output_type": "stream",
     "text": [
      "  Reading job description from: ../data/raw/jd/unv/Climate Change & Environmental Officer.txt\n",
      "  Generating prompt...\n",
      "  Initializing Google GenAI client for model: gemini-2.5-pro-exp-03-25\n",
      "  Calling Google GenAI model...\n",
      "  Received response in 75.2306 seconds.\n",
      "  Cleaning response...\n",
      "  Parsing JSON response...\n",
      "  Validating schema...\n",
      "--- Running Validation ---\n",
      "Found candidate category list under key: 'scoringCategories'\n",
      "Found candidate weight key: 'weight_percent'\n",
      "Calculated total weight: 100.0 from 5 items.\n",
      "--- Validation Successful ---\n",
      "  Schema validity: True\n",
      "  Setting up Athina Logger...\n",
      "  Logging inference to Athina...\n",
      "  Logging successful.\n",
      "{'schemaMetadata': {'roleName': 'Climate Change & Environmental Officer (International UN Volunteer Specialist)', 'organizationFocus': \"Children's Rights (Education, Health, Protection, WASH, Climate/Environment) - UNICEF\", 'screeningPhase': 'Initial Candidate Screening', 'scoringScale': {'min': 1, 'max': 5}, 'version': '1.0', 'description': 'Scoring schema derived from Job Description for initial candidate assessment. Intended for use when reviewing candidate materials (e.g., resume, forms).'}, 'scoringCategories': [{'category_id': 'CAT01', 'category_name': 'Mission Alignment & Motivation', 'weight_percent': 15, 'rationale': \"Assesses candidate's connection to UNICEF's mission, focus on children's rights and equity, and motivation for the UNV role as relevant to the JD.\", 'criteria': [{'criterion_id': 'CRIT01_01', 'criterion_name': 'Understanding of UNICEF Mission & Focus on Children/Equity', 'assessment_description': \"Evaluate evidence of understanding UNICEF's mandate, particularly regarding children's rights, climate change impact, and equity issues (disadvantaged populations like girls, ethnic minorities, children with disabilities) as mentioned in the JD.\", 'scoring_anchors': {'1': \"No demonstrated understanding of UNICEF's mission or focus areas relevant to the role.\", '2': 'Minimal understanding shown; generic statements without specific connection to children, climate, or equity.', '3': \"Adequate understanding demonstrated; mentions UNICEF's work for children.\", '4': \"Good understanding shown; connects UNICEF's mission to the role's focus on climate change and children, possibly mentioning equity.\", '5': \"Excellent understanding demonstrated; clearly articulates UNICEF's mission, the role's link to climate change, children, and specifically highlights the importance of equity/disadvantaged populations as per JD.\"}}, {'criterion_id': 'CRIT01_02', 'criterion_name': 'Motivation for UNV Role & Development Work', 'assessment_description': 'Assess the level of genuine interest and commitment conveyed for contributing to peace and development, serving others, and undertaking this specific UN Volunteer assignment.', 'scoring_anchors': {'1': 'Motivation unclear or appears unrelated to volunteerism or development work.', '2': 'Some motivation expressed, but seems generic or primarily self-serving.', '3': 'Clearly expresses motivation consistent with volunteerism and development goals.', '4': 'Strong motivation expressed, aligning well with UNV values and the specific contribution of this role.', '5': 'Compelling motivation demonstrated, deeply aligned with UNV values, peace/development goals, serving others, and the specific challenges/opportunities of the role.'}}]}, {'category_id': 'CAT02', 'category_name': 'Relevant Skills & Knowledge', 'weight_percent': 30, 'rationale': 'Assesses required technical knowledge, functional skills, and specific competencies outlined in the JD.', 'criteria': [{'criterion_id': 'CRIT02_01', 'criterion_name': 'Knowledge: Climate Change, Environment & Development Issues', 'assessment_description': 'Evaluate demonstrated knowledge of major development issues, climate change, environmental degradation, DRR, and renewable energy, particularly concerning their impact on children and education as per JD context.', 'scoring_anchors': {'1': 'No relevant knowledge demonstrated.', '2': 'Basic awareness of climate change or development issues, not well connected.', '3': 'Demonstrates solid knowledge of climate change/environmental issues OR development issues.', '4': 'Demonstrates strong knowledge of both climate change/environmental issues and development issues, with some linkage to children/education.', '5': 'Demonstrates deep, integrated knowledge of climate change, environment, DRR, renewable energy, and development issues, explicitly linking them to impacts on children and education as required by the JD.'}}, {'criterion_id': 'CRIT02_02', 'criterion_name': 'Skills: Program Planning, Monitoring & Reporting', 'assessment_description': 'Assess evidence of skills in strategic planning, managing project cycles, monitoring progress (indicator tracking), and reporting results, relevant to the program development/management tasks in the JD.', 'scoring_anchors': {'1': 'No evidence of planning, monitoring, or reporting skills.', '2': 'Limited evidence, mentioned vaguely or in unrelated contexts.', '3': 'Evidence of contributing to planning, monitoring, OR reporting activities.', '4': 'Clear evidence of applying planning, monitoring, AND reporting skills in relevant contexts.', '5': 'Strong evidence of leading or significantly contributing to strategic planning, comprehensive monitoring, and effective reporting in programme contexts similar to the JD.'}}, {'criterion_id': 'CRIT02_03', 'criterion_name': 'Skills: Research & Evidence Generation', 'assessment_description': 'Evaluate demonstrated ability to identify evidence needs, conduct research, and analyze data to inform programming and advocacy, as required by the JD.', 'scoring_anchors': {'1': 'No evidence of research or data analysis skills.', '2': 'Minimal mention of research activities, lacking detail or relevance.', '3': 'Evidence of conducting basic research or data collection.', '4': 'Clear evidence of undertaking relevant research/evidence generation activities and using findings.', '5': 'Strong evidence of designing and executing research, analyzing findings to inform strategy/advocacy, aligning well with JD requirements.'}}, {'criterion_id': 'CRIT02_04', 'criterion_name': 'Skills: Communication & Interpersonal (incl. Networking)', 'assessment_description': 'Assess evidence of good communication (written/verbal implied), interpersonal, and networking skills needed for partnerships, reporting, and team collaboration mentioned in the JD.', 'scoring_anchors': {'1': 'Poor communication indicated by application; no mention of interpersonal/networking skills.', '2': 'Basic communication skills; limited evidence of interpersonal or networking abilities.', '3': 'Adequate communication skills; some evidence of effective interpersonal interaction or networking.', '4': 'Good communication, interpersonal, and networking skills demonstrated through examples or descriptions.', '5': 'Excellent communication, interpersonal, and networking skills strongly evidenced, suitable for partnership building and multi-stakeholder engagement.'}}, {'criterion_id': 'CRIT02_05', 'criterion_name': 'Skills: IT Proficiency', 'assessment_description': 'Evaluate stated proficiency in standard office software (Word, Excel, PowerPoint) and social media, as listed in the JD.', 'scoring_anchors': {'1': 'No mention of IT skills or proficiency appears very low.', '2': 'Mentions basic familiarity with some tools.', '3': 'States proficiency in standard Office suite.', '4': 'States proficiency in Office suite and mentions social media use.', '5': 'Clearly indicates strong proficiency in Office suite and relevant use of social media or other specified IT tools.'}}, {'criterion_id': 'CRIT02_06', 'criterion_name': 'Asset: Understanding of Digital Learning Solutions', 'assessment_description': 'Assess if candidate mentions understanding or experience with digital learning solutions/content development, noted as an asset in the JD.', 'scoring_anchors': {'1': 'No mention of digital learning.', '3': 'Mentions awareness or basic understanding of digital learning.', '5': 'Demonstrates clear understanding or experience with digital learning solutions/content development.'}}]}, {'category_id': 'CAT03', 'category_name': 'Relevant Experience', 'weight_percent': 40, 'rationale': 'Evaluates the depth, relevance, and duration of past work experience against the specific requirements and task areas outlined in the JD.', 'criteria': [{'criterion_id': 'CRIT03_01', 'criterion_name': 'Years & Relevance of Experience (Climate Change or Education)', 'assessment_description': 'Evaluate if the candidate meets the minimum 3 years requirement with experience demonstrably relevant to education OR climate change issues, as specified.', 'scoring_anchors': {'1': 'Less than 3 years OR experience not relevant to education or climate change.', '2': 'Meets 3-year minimum but relevance to education/climate change is weak or unclear.', '3': 'Meets 3-year minimum with clear relevance to EITHER education OR climate change issues.', '4': 'Exceeds 3-year minimum with clear relevance to education OR climate change; OR meets minimum with relevance to BOTH.', '5': 'Significantly exceeds 3-year minimum with strong relevance to both education AND climate change issues.'}}, {'criterion_id': 'CRIT03_02', 'criterion_name': 'Experience: Program Development/Design/Management', 'assessment_description': 'Assess the extent and relevance of experience in program development, design, and/or management tasks similar to those described (DRR, climate adaptation/mitigation, renewable energy, esp. in schools).', 'scoring_anchors': {'1': 'No relevant program development/management experience.', '2': 'Minimal experience, e.g., assisting with minor tasks.', '3': 'Some experience in program development OR management in relevant sectors.', '4': 'Significant experience in program development AND management, aligning with JD tasks.', '5': 'Extensive, directly relevant experience leading or substantially contributing to program development, design, and management in areas like climate-smart schools, renewable energy, or DRR in education.'}}, {'criterion_id': 'CRIT03_03', 'criterion_name': 'Experience: Partnership Building & Resource Mobilization', 'assessment_description': 'Evaluate evidence of experience in developing partnerships (govt, donors, UN, etc.) and contributing to resource mobilization efforts (proposal writing, donor relations), as per JD.', 'scoring_anchors': {'1': 'No experience mentioned in partnership or resource mobilization.', '2': 'Limited mention, e.g., basic interaction with partners.', '3': 'Some experience in EITHER partnership building OR resource mobilization support.', '4': 'Demonstrated experience in both partnership building AND contributing to resource mobilization.', '5': 'Strong track record of successfully building strategic partnerships AND securing resources/writing successful proposals in relevant contexts.'}}, {'criterion_id': 'CRIT03_04', 'criterion_name': 'Experience: Highlighting Equity/Disadvantaged Populations', 'assessment_description': \"Assess if candidate's experience demonstrates a focus on equity or addressing the needs of disadvantaged populations in the context of their work, aligning with JD's emphasis.\", 'scoring_anchors': {'1': 'No mention of equity focus.', '3': 'Mentions working with diverse populations generally.', '5': 'Provides specific examples or demonstrates experience explicitly addressing climate/education impacts on disadvantaged groups (girls, ethnic minorities, CWD) as per JD.'}}, {'criterion_id': 'CRIT03_05', 'criterion_name': 'Asset: Experience in Viet Nam or Similar Context', 'assessment_description': 'Assess if the candidate has experience working or living in Viet Nam or a comparable socio-economic/development context, noted as an asset.', 'scoring_anchors': {'1': 'No experience in Viet Nam or similar context.', '3': 'Experience in a different developing country context.', '5': 'Direct experience working/living in Viet Nam or very similar regional context.'}}, {'criterion_id': 'CRIT03_06', 'criterion_name': 'Asset: Previous Volunteer/Cross-Cultural Experience', 'assessment_description': 'Assess if the candidate has previous volunteer experience or significant cross-cultural experience (study, work, internship), noted as highly regarded.', 'scoring_anchors': {'1': 'No mention of volunteer or cross-cultural experience.', '3': 'Mentions some cross-cultural exposure (e.g., short travel, diverse team).', '5': 'Highlights significant previous volunteer experience AND/OR substantial cross-cultural immersion (study, work, internship).'}}]}, {'category_id': 'CAT04', 'category_name': 'Competencies & Attitude', 'weight_percent': 10, 'rationale': 'Assesses behavioral competencies, work style, and attitude alignment with UNV values and requirements suggested by the JD.', 'criteria': [{'criterion_id': 'CRIT04_01', 'criterion_name': 'Adaptability, Flexibility & Openness to Learning', 'assessment_description': 'Evaluate evidence suggesting adaptability to new environments/cultures, flexibility in approach, and a willingness to learn, as highlighted in the JD.', 'scoring_anchors': {'1': 'No evidence suggesting these traits; application may seem rigid.', '2': 'Minimal suggestion of these traits.', '3': 'Implies adaptability or willingness to learn.', '4': 'Provides examples or statements indicating good adaptability, flexibility, and openness.', '5': 'Strongly demonstrates adaptability, flexibility, and a proactive learning orientation through experiences or statements.'}}, {'criterion_id': 'CRIT04_02', 'criterion_name': 'Teamwork & Collaboration', 'assessment_description': \"Assess evidence of willingness and ability to work effectively as part of a team, aligning with the 'Working in Teams' competency.\", 'scoring_anchors': {'1': 'No mention of teamwork; focus seems solely individual.', '2': 'Mentions teamwork generically.', '3': 'Describes contributing to team efforts.', '4': 'Provides examples of effective collaboration within a team.', '5': 'Highlights strong teamwork skills and experience in collaborative environments.'}}, {'criterion_id': 'CRIT04_03', 'criterion_name': 'Commitment, Professionalism & Values Alignment', 'assessment_description': 'Evaluate evidence of commitment, motivation, professionalism, accountability, integrity, and ethics, aligning with listed competencies and UN values.', 'scoring_anchors': {'1': 'Application lacks professionalism or raises concerns about commitment/ethics.', '2': 'Professional presentation; commitment/values not strongly articulated.', '3': 'Demonstrates professionalism and commitment through tone and experience.', '4': 'Clearly conveys professionalism, commitment, and alignment with values like integrity/accountability.', '5': 'Exemplifies professionalism, strong commitment, and deep alignment with ethical standards and UN values through statements or experience.'}}, {'criterion_id': 'CRIT04_04', 'criterion_name': 'Respect for Diversity & Cross-Cultural Sensitivity', 'assessment_description': 'Assess evidence of respect for diversity and adaptability to different cultures and environments, crucial for an international assignment.', 'scoring_anchors': {'1': 'No evidence demonstrated; potential indicators of bias.', '2': 'Generic statement about diversity.', '3': 'Implies respect for diversity; mentions working in diverse settings.', '4': 'Clearly demonstrates respect for diversity and cultural sensitivity through examples or understanding.', '5': 'Strong evidence of deep respect for diversity, cultural adaptability, and experience navigating cross-cultural situations effectively.'}}]}, {'category_id': 'CAT06', 'category_name': 'Communication Quality (Written)', 'weight_percent': 5, 'rationale': \"Assesses overall clarity, professionalism, and attention to detail in the candidate's written application materials.\", 'criteria': [{'criterion_id': 'CRIT06_01', 'criterion_name': 'Clarity, Professionalism & Language Quality', 'assessment_description': \"Evaluate the overall quality (clarity, structure, grammar, spelling, tone) of the candidate's written English in the application materials.\", 'scoring_anchors': {'1': 'Poorly written, many errors, difficult to understand, unprofessional.', '2': 'Multiple errors or lacks clarity/professionalism in places.', '3': 'Generally clear and professional, minor errors acceptable.', '4': 'Well-written, clear, professional, very few errors.', '5': 'Exceptionally clear, concise, professional, error-free writing.'}}]}], 'passFailThresholds': [{'threshold_id': 'PF01', 'description': 'Must be a French national (Donor Requirement).'}, {'threshold_id': 'PF02', 'description': 'Must be between 21 and 35 years of age at the time of application (Donor Requirement).'}, {'threshold_id': 'PF03', 'description': \"Must hold a Master II certificate or equivalent Master's degree (Donor/JD Requirement).\"}, {'threshold_id': 'PF04', 'description': 'Must have a minimum of 3 years relevant experience (JD Requirement).'}, {'threshold_id': 'PF05', 'description': 'Must NOT have previously served on a UN Volunteer Specialist assignment funded by the Government of France (Donor Requirement).'}, {'threshold_id': 'PF06', 'description': 'Must be fluent in English (Required Language).'}, {'threshold_id': 'PF07', 'description': 'Must be a national of a country other than the country of assignment (Viet Nam) (UNV Requirement).'}, {'threshold_id': 'PF08', 'description': 'Must confirm availability for 12-month duration, starting approx. 01/10/2025, onsite in Hanoi (JD Requirement).'}, {'threshold_id': 'PF09', 'description': 'Must meet COVID-19 vaccination requirements for onsite work (UN Requirement).'}]}\n"
     ]
    }
   ],
   "source": [
    "scoring_scale_min = 1\n",
    "scoring_scale_max = 5\n",
    "\n",
    "schema = gen_and_log_schema_from_jd(\n",
    "    jd_path=filepaths[0],\n",
    "    scoring_scale_min=scoring_scale_min,\n",
    "    scoring_scale_max=scoring_scale_max,\n",
    "    google_api_key=gemini_api_key,\n",
    "    model=\"gemini-2.5-pro-exp-03-25\",\n",
    "    prompt_template=prompt_template,\n",
    "    cleanlab_tlm_api_key=cleanlab_tlm_api_key,\n",
    "    athina_api_key=athina_api_key\n",
    ")\n",
    "\n",
    "print(schema)"
   ]
  }
 ],
 "metadata": {
  "kernelspec": {
   "display_name": "ai_in_hr-env",
   "language": "python",
   "name": "python3"
  },
  "language_info": {
   "codemirror_mode": {
    "name": "ipython",
    "version": 3
   },
   "file_extension": ".py",
   "mimetype": "text/x-python",
   "name": "python",
   "nbconvert_exporter": "python",
   "pygments_lexer": "ipython3",
   "version": "3.10.16"
  }
 },
 "nbformat": 4,
 "nbformat_minor": 2
}
